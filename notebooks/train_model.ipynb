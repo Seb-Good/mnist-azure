{
 "cells": [
  {
   "cell_type": "markdown",
   "metadata": {},
   "source": [
    "# MNIST-Azure\n",
    "## Train Model\n",
    "### By: Sebastian Goodfellow"
   ]
  },
  {
   "cell_type": "code",
   "execution_count": null,
   "metadata": {},
   "outputs": [],
   "source": [
    "# Configure Notebook\n",
    "import warnings\n",
    "warnings.filterwarnings('ignore')\n",
    "%matplotlib inline\n",
    "%load_ext autoreload\n",
    "%autoreload 2\n",
    "\n",
    "# Import 3rd party libraries\n",
    "import os\n",
    "import cv2\n",
    "import sys\n",
    "import json\n",
    "import numpy as np\n",
    "import tensorflow as tf\n",
    "import matplotlib.pylab as plt\n",
    "\n",
    "# Import local Libraries\n",
    "sys.path.insert(0, '/home/sebastiangoodfellow/Documents/Code/mnist-azure')\n",
    "from mnistazure.config import DATA_PATH, TENSORBOARD_PATH\n",
    "from mnistazure.generator import DataGenerator\n",
    "from mnistazure.graph import Graph\n",
    "from mnistazure.network import Network"
   ]
  },
  {
   "cell_type": "markdown",
   "metadata": {},
   "source": [
    "# Set Model Parameters"
   ]
  },
  {
   "cell_type": "code",
   "execution_count": null,
   "metadata": {},
   "outputs": [],
   "source": [
    "# Image shape\n",
    "image_shape = (28, 28, 1)\n",
    "\n",
    "# Maximum number of checkpoints to keep\n",
    "max_to_keep = 1\n",
    "\n",
    "# Random seed\n",
    "seed = 0\n",
    "\n",
    "# Number of unique labels\n",
    "num_labels = 10"
   ]
  },
  {
   "cell_type": "markdown",
   "metadata": {},
   "source": [
    "# Test Data Generator"
   ]
  },
  {
   "cell_type": "code",
   "execution_count": null,
   "metadata": {},
   "outputs": [],
   "source": [
    "# Initialize generator\n",
    "generator = DataGenerator(path=DATA_PATH, mode='train', shape=image_shape, batch_size=32, \n",
    "                          prefetch_buffer=100, seed=0, num_parallel_calls=24)\n",
    "\n",
    "# View dataset\n",
    "generator.dataset"
   ]
  },
  {
   "cell_type": "markdown",
   "metadata": {},
   "source": [
    "# Test Graph"
   ]
  },
  {
   "cell_type": "code",
   "execution_count": null,
   "metadata": {},
   "outputs": [],
   "source": [
    "# Initialize network\n",
    "network = Network(height=image_shape[0], width=image_shape[1], \n",
    "                  channels=image_shape[2], num_labels=num_labels, seed=0)\n",
    "\n",
    "# Initialize graph\n",
    "graph = Graph(network=network, save_path=TENSORBOARD_PATH, \n",
    "              data_path=DATA_PATH, max_to_keep=max_to_keep)\n",
    "\n",
    "# Learning rate\n",
    "learning_rate = 1e-3\n",
    "\n",
    "# Number of epochs\n",
    "epochs = 5\n",
    "\n",
    "# Batch size\n",
    "batch_size = 128\n",
    "\n",
    "with tf.Session() as sess:\n",
    "    \n",
    "    # Initialize variables\n",
    "    sess.run(graph.init_global)\n",
    "    \n",
    "    # Get number of training batches\n",
    "    num_train_batches = graph.generator_train.num_batches.eval(\n",
    "        feed_dict={graph.batch_size: batch_size})\n",
    "    \n",
    "    # Get number of batch steps per epoch\n",
    "    steps_per_epoch = int(np.ceil(num_train_batches / 1))\n",
    "    \n",
    "    # Get mode handle for training\n",
    "    handle_train = sess.run(graph.generator_train.iterator.string_handle())\n",
    "    \n",
    "    # Initialize the train dataset iterator at the beginning of each epoch\n",
    "    sess.run(fetches=[graph.generator_train.iterator.initializer],\n",
    "             feed_dict={graph.batch_size: batch_size})\n",
    "    \n",
    "    # Loop through epochs\n",
    "    for epoch in range(epochs):\n",
    "\n",
    "        # Initialize metrics\n",
    "        sess.run(fetches=[graph.init_metrics_op])\n",
    "\n",
    "        # Loop through train dataset batches\n",
    "        for batch in range(steps_per_epoch):\n",
    "            \n",
    "            loss, accuracy, _, _, _, _ = sess.run(fetches=[graph.loss, graph.accuracy, graph.train_op, \n",
    "                                        graph.update_metrics_op, graph.train_summary_metrics_op, \n",
    "                                        graph.global_step],\n",
    "                               feed_dict={graph.batch_size: batch_size, graph.is_training: True,\n",
    "                                          graph.learning_rate: learning_rate,\n",
    "                                          graph.mode_handle: handle_train})\n",
    "            print(loss, accuracy)\n",
    "\n",
    "        # Initialize the train dataset iterator at the end of each epoch\n",
    "        sess.run(fetches=[graph.generator_train.iterator.initializer],\n",
    "                 feed_dict={graph.batch_size: batch_size})"
   ]
  }
 ],
 "metadata": {
  "kernelspec": {
   "display_name": "Python 3",
   "language": "python",
   "name": "python3"
  },
  "language_info": {
   "codemirror_mode": {
    "name": "ipython",
    "version": 3
   },
   "file_extension": ".py",
   "mimetype": "text/x-python",
   "name": "python",
   "nbconvert_exporter": "python",
   "pygments_lexer": "ipython3",
   "version": "3.6.8"
  }
 },
 "nbformat": 4,
 "nbformat_minor": 1
}
