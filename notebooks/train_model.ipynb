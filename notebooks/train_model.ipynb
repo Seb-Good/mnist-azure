{
 "cells": [
  {
   "cell_type": "markdown",
   "metadata": {},
   "source": [
    "# MNIST-Azure\n",
    "## Train Model\n",
    "### By: Sebastian Goodfellow"
   ]
  },
  {
   "cell_type": "code",
   "execution_count": 1,
   "metadata": {},
   "outputs": [],
   "source": [
    "# Configure Notebook\n",
    "import warnings\n",
    "warnings.filterwarnings('ignore')\n",
    "%matplotlib inline\n",
    "%load_ext autoreload\n",
    "%autoreload 2\n",
    "\n",
    "# Import 3rd party libraries\n",
    "import os\n",
    "import cv2\n",
    "import sys\n",
    "import json\n",
    "import numpy as np\n",
    "import tensorflow as tf\n",
    "import matplotlib.pylab as plt\n",
    "\n",
    "# Import local Libraries\n",
    "sys.path.insert(0, '/home/sebastiangoodfellow/Documents/Code/mnist-azure')\n",
    "from mnistazure.config import DATA_PATH\n",
    "from mnistazure.generator import DataGenerator\n",
    "from mnistazure.graph import Graph\n",
    "from mnistazure.network import Network"
   ]
  },
  {
   "cell_type": "markdown",
   "metadata": {},
   "source": [
    "# Set Model Parameters"
   ]
  },
  {
   "cell_type": "code",
   "execution_count": 2,
   "metadata": {},
   "outputs": [],
   "source": [
    "# Image shape\n",
    "image_shape = (28, 28, 1)\n",
    "\n",
    "# Maximum number of checkpoints to keep\n",
    "max_to_keep = 1\n",
    "\n",
    "# Experiment name\n",
    "name = 'test'\n",
    "\n",
    "# Random seed\n",
    "seed = 0\n",
    "\n",
    "# Number of unique labels\n",
    "num_labels = 10\n",
    "\n",
    "# Save path\n",
    "save_path = '/home/sebastiangoodfellow/Desktop/tensoreboard/mnistazure'"
   ]
  },
  {
   "cell_type": "markdown",
   "metadata": {},
   "source": [
    "# Test Data Generator"
   ]
  },
  {
   "cell_type": "code",
   "execution_count": 3,
   "metadata": {},
   "outputs": [
    {
     "data": {
      "text/plain": [
       "<PrefetchDataset shapes: ((?, 28, 28, 1), (?,)), types: (tf.float32, tf.int32)>"
      ]
     },
     "execution_count": 3,
     "metadata": {},
     "output_type": "execute_result"
    }
   ],
   "source": [
    "# Initialize generator\n",
    "generator = DataGenerator(path=DATA_PATH, mode='train', shape=image_shape, batch_size=32, \n",
    "                          prefetch_buffer=100, seed=0, num_parallel_calls=24)\n",
    "\n",
    "# View dataset\n",
    "generator.dataset"
   ]
  },
  {
   "cell_type": "markdown",
   "metadata": {},
   "source": [
    "# Test Graph"
   ]
  },
  {
   "cell_type": "code",
   "execution_count": 4,
   "metadata": {},
   "outputs": [],
   "source": [
    "# Initialize network\n",
    "network = Network(height=image_shape[0], width=image_shape[1], channels=image_shape[2], labels=num_labels, seed=0)\n",
    "\n",
    "# Initialize graph\n",
    "graph = Graph(network=network, save_path=save_path, data_path=DATA_PATH, max_to_keep=max_to_keep)\n",
    "\n",
    "with tf.Session() as sess:\n",
    "    \n",
    "    # Initialize variables\n",
    "    sess.run(graph.init_global)"
   ]
  },
  {
   "cell_type": "code",
   "execution_count": null,
   "metadata": {},
   "outputs": [],
   "source": []
  }
 ],
 "metadata": {
  "kernelspec": {
   "display_name": "Python 3",
   "language": "python",
   "name": "python3"
  },
  "language_info": {
   "codemirror_mode": {
    "name": "ipython",
    "version": 3
   },
   "file_extension": ".py",
   "mimetype": "text/x-python",
   "name": "python",
   "nbconvert_exporter": "python",
   "pygments_lexer": "ipython3",
   "version": "3.6.8"
  }
 },
 "nbformat": 4,
 "nbformat_minor": 1
}
