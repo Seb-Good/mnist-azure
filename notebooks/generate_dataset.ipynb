{
 "cells": [
  {
   "cell_type": "markdown",
   "metadata": {},
   "source": [
    "# MNIST-Azure\n",
    "## Generate Dataset\n",
    "### By: Sebastian Goodfellow"
   ]
  },
  {
   "cell_type": "code",
   "execution_count": 1,
   "metadata": {},
   "outputs": [],
   "source": [
    "# Configure Notebook\n",
    "import warnings\n",
    "warnings.filterwarnings('ignore')\n",
    "%matplotlib inline\n",
    "%load_ext autoreload\n",
    "%autoreload 2\n",
    "\n",
    "# Import 3rd party libraries\n",
    "import os\n",
    "import cv2\n",
    "import sys\n",
    "import json\n",
    "import numpy as np\n",
    "import tensorflow as tf\n",
    "import matplotlib.pylab as plt\n",
    "\n",
    "# Import local Libraries\n",
    "sys.path.insert(0, './../')\n",
    "from mnistazure.config import DATA_PATH"
   ]
  },
  {
   "cell_type": "markdown",
   "metadata": {},
   "source": [
    "# Download MNIST Dataset"
   ]
  },
  {
   "cell_type": "code",
   "execution_count": 2,
   "metadata": {},
   "outputs": [],
   "source": [
    "# Download data\n",
    "((train_data, train_labels), (val_data, val_labels)) = tf.keras.datasets.mnist.load_data()"
   ]
  },
  {
   "cell_type": "markdown",
   "metadata": {},
   "source": [
    "# Generate Local Dataset"
   ]
  },
  {
   "cell_type": "code",
   "execution_count": null,
   "metadata": {},
   "outputs": [],
   "source": [
    "# Labels dictionary\n",
    "labels = {'train': [], 'val': []}\n",
    "\n",
    "# Generate train dataset\n",
    "for idx in range(len(train_labels)):\n",
    "    \n",
    "    # Set file name\n",
    "    file_name = 'train_{}'.format(idx)\n",
    "    \n",
    "    # Get label\n",
    "    labels['train'].append((file_name, int(train_labels[idx])))\n",
    "    \n",
    "    # Save jpeg\n",
    "    cv2.imwrite(os.path.join(DATA_PATH, 'images', '{}.jpg'.format(file_name)), train_data[idx])\n",
    "        \n",
    "# Generate val dataset\n",
    "for idx in range(len(val_labels)):\n",
    "    \n",
    "    # Set file name\n",
    "    file_name = 'val_{}'.format(idx)\n",
    "    \n",
    "    # Get label\n",
    "    labels['val'].append((file_name, int(val_labels[idx])))\n",
    "    \n",
    "    # Save jpeg\n",
    "    cv2.imwrite(os.path.join(DATA_PATH, 'images', '{}.jpg'.format(file_name)), val_data[idx])\n",
    "    \n",
    "# Save labels\n",
    "with open(os.path.join(DATA_PATH, 'labels', 'labels.json'), 'w') as file:\n",
    "    json.dump(labels, file, sort_keys=True)"
   ]
  }
 ],
 "metadata": {
  "kernelspec": {
   "display_name": "Python 3",
   "language": "python",
   "name": "python3"
  },
  "language_info": {
   "codemirror_mode": {
    "name": "ipython",
    "version": 3
   },
   "file_extension": ".py",
   "mimetype": "text/x-python",
   "name": "python",
   "nbconvert_exporter": "python",
   "pygments_lexer": "ipython3",
   "version": "3.6.8"
  }
 },
 "nbformat": 4,
 "nbformat_minor": 1
}
