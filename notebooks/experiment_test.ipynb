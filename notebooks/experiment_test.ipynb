{
 "cells": [
  {
   "cell_type": "markdown",
   "metadata": {
    "collapsed": true
   },
   "source": [
    "# MNIST-Azure\n",
    "## Experiment Test\n",
    "### By: Sebastian Goodfellow"
   ]
  },
  {
   "cell_type": "code",
   "execution_count": 118,
   "metadata": {},
   "outputs": [
    {
     "name": "stdout",
     "output_type": "stream",
     "text": [
      "The autoreload extension is already loaded. To reload it, use:\n",
      "  %reload_ext autoreload\n"
     ]
    }
   ],
   "source": [
    "# Configure Notebook\n",
    "import warnings\n",
    "warnings.filterwarnings('ignore')\n",
    "%matplotlib inline\n",
    "%load_ext autoreload\n",
    "%autoreload 2\n",
    "\n",
    "# Import 3rd party libraries\n",
    "import os\n",
    "import sys\n",
    "from azureml.widgets import RunDetails\n",
    "from azureml.train.dnn import TensorFlow\n",
    "from azureml.tensorboard import Tensorboard\n",
    "from azureml.train.estimator import Estimator\n",
    "from azureml.core import Workspace, Datastore, Experiment, Run, RunConfiguration\n",
    "from azureml.train.hyperdrive import HyperDriveConfig, BanditPolicy, RandomParameterSampling, PrimaryMetricGoal\n",
    "from azureml.train.hyperdrive import loguniform, uniform, choice\n",
    "\n",
    "# Import local Libraries\n",
    "sys.path.insert(0, './../')\n",
    "from mnistazure.config import DATA_PATH, TENSORBOARD_PATH"
   ]
  },
  {
   "cell_type": "markdown",
   "metadata": {},
   "source": [
    "# Script Run"
   ]
  },
  {
   "cell_type": "code",
   "execution_count": 100,
   "metadata": {},
   "outputs": [],
   "source": [
    "# Get workspace\n",
    "ws = Workspace.get(name='mnist-azure', subscription_id='', resource_group='')"
   ]
  },
  {
   "cell_type": "code",
   "execution_count": 101,
   "metadata": {},
   "outputs": [],
   "source": [
    "# Get data store\n",
    "ds = Datastore.get(ws, datastore_name='workspacefilestore')"
   ]
  },
  {
   "cell_type": "code",
   "execution_count": 102,
   "metadata": {},
   "outputs": [],
   "source": [
    "# Get local run configuration\n",
    "run_local = RunConfiguration()\n",
    "run_local.environment.python.user_managed_dependencies = True"
   ]
  },
  {
   "cell_type": "code",
   "execution_count": 103,
   "metadata": {},
   "outputs": [],
   "source": [
    "# Define experiment\n",
    "exp = Experiment(workspace=ws, name='Experiment_5')"
   ]
  },
  {
   "cell_type": "code",
   "execution_count": 96,
   "metadata": {},
   "outputs": [],
   "source": [
    "# Set input parameters\n",
    "script_params = {'--dropout_rate': 0.4,\n",
    "                 '--data_dir': DATA_PATH,\n",
    "                 '--log_dir': './logs',\n",
    "                 '--batch_size': 32,\n",
    "                 '--learning_rate': 1e-3,\n",
    "                 '--epochs': 5,\n",
    "                 '--max_to_keep': 1,\n",
    "                 '--seed': 0}"
   ]
  },
  {
   "cell_type": "code",
   "execution_count": 97,
   "metadata": {},
   "outputs": [],
   "source": [
    "# Define estimator\n",
    "estimator = Estimator(source_directory='../', compute_target='local',\n",
    "                      entry_script='train.py', script_params=script_params,\n",
    "                      environment_definition=run_local.environment)"
   ]
  },
  {
   "cell_type": "code",
   "execution_count": 98,
   "metadata": {
    "scrolled": false
   },
   "outputs": [],
   "source": [
    "# Submit experiment\n",
    "run = exp.submit(estimator, show_output=False)\n",
    "# run.wait_for_completion(show_output=True)"
   ]
  },
  {
   "cell_type": "code",
   "execution_count": 99,
   "metadata": {},
   "outputs": [
    {
     "data": {
      "text/plain": [
       "_UserRunWidget(widget_settings={'childWidgetDisplay': 'popup', 'send_telemetry': False, 'log_level': 'INFO', '…"
      ]
     },
     "metadata": {},
     "output_type": "display_data"
    }
   ],
   "source": [
    "# Monitor run\n",
    "RunDetails(run).show()"
   ]
  },
  {
   "cell_type": "code",
   "execution_count": null,
   "metadata": {},
   "outputs": [],
   "source": [
    "# Launch tensorboard\n",
    "tb = Tensorboard(run)\n",
    "tb.start()"
   ]
  },
  {
   "cell_type": "code",
   "execution_count": null,
   "metadata": {},
   "outputs": [],
   "source": [
    "# Stop tensorboard\n",
    "tb.stop()"
   ]
  },
  {
   "cell_type": "markdown",
   "metadata": {},
   "source": [
    "# Hyperdrive"
   ]
  },
  {
   "cell_type": "code",
   "execution_count": null,
   "metadata": {},
   "outputs": [],
   "source": [
    "# Set input parameters\n",
    "script_params = {'--dropout_rate': 0.4,\n",
    "                 '--data_dir': DATA_PATH,\n",
    "                 '--log_dir': './logs',\n",
    "                 '--batch_size': 32,\n",
    "                 '--learning_rate': 1e-3,\n",
    "                 '--epochs': 5,\n",
    "                 '--max_to_keep': 1,\n",
    "                 '--seed': 0}"
   ]
  },
  {
   "cell_type": "code",
   "execution_count": null,
   "metadata": {},
   "outputs": [],
   "source": [
    "# Get workspace\n",
    "ws = Workspace.get(name='mnist-azure', subscription_id='', resource_group='')"
   ]
  },
  {
   "cell_type": "code",
   "execution_count": null,
   "metadata": {},
   "outputs": [],
   "source": [
    "# Get local run configuration\n",
    "run_local = RunConfiguration()\n",
    "run_local.environment.python.user_managed_dependencies = True"
   ]
  },
  {
   "cell_type": "code",
   "execution_count": null,
   "metadata": {},
   "outputs": [],
   "source": [
    "# Define experiment\n",
    "exp = Experiment(workspace=ws, name='Experiment_5')"
   ]
  },
  {
   "cell_type": "code",
   "execution_count": null,
   "metadata": {},
   "outputs": [],
   "source": [
    "# Define estimator\n",
    "# NOTE: Hyperdrive only works with remote compute targets\n",
    "estimator = Estimator(source_directory='../', compute_target='local',\n",
    "                      entry_script='train.py', script_params=script_params,\n",
    "                      environment_definition=run_local.environment)"
   ]
  },
  {
   "cell_type": "code",
   "execution_count": null,
   "metadata": {},
   "outputs": [],
   "source": [
    "# Hyperparameter sampling\n",
    "hyperparameter_sampling = RandomParameterSampling(\n",
    "    {\n",
    "        '--dropout_rate': uniform(0.5, 0.95),\n",
    "        '--batch_size': choice(16, 32, 64, 128, 256, 512),\n",
    "        '--learning_rate': loguniform(-5, -1)\n",
    "    }\n",
    ")"
   ]
  },
  {
   "cell_type": "code",
   "execution_count": null,
   "metadata": {},
   "outputs": [],
   "source": [
    "# Early stopping policy\n",
    "early_termination_policy = BanditPolicy(slack_factor=0.15, evaluation_interval=2)"
   ]
  },
  {
   "cell_type": "code",
   "execution_count": null,
   "metadata": {},
   "outputs": [],
   "source": [
    "# Configure hyper drive run\n",
    "hyper_drive_config = HyperDriveConfig(estimator=estimator, hyperparameter_sampling=hyperparameter_sampling,\n",
    "                                     policy=early_termination_policy, primary_metric_name='accuracy',\n",
    "                                     primary_metric_goal=PrimaryMetricGoal.MAXIMIZE, max_total_runs=20,\n",
    "                                     max_concurrent_runs=5)"
   ]
  },
  {
   "cell_type": "code",
   "execution_count": null,
   "metadata": {},
   "outputs": [],
   "source": [
    "# Submit experiment\n",
    "hd_run = exp.submit(hyper_drive_config)"
   ]
  },
  {
   "cell_type": "code",
   "execution_count": null,
   "metadata": {},
   "outputs": [],
   "source": [
    "# Monitor run\n",
    "RunDetails(hd_run).show()"
   ]
  }
 ],
 "metadata": {
  "kernelspec": {
   "display_name": "Python 3",
   "language": "python",
   "name": "python3"
  },
  "language_info": {
   "codemirror_mode": {
    "name": "ipython",
    "version": 3
   },
   "file_extension": ".py",
   "mimetype": "text/x-python",
   "name": "python",
   "nbconvert_exporter": "python",
   "pygments_lexer": "ipython3",
   "version": "3.6.8"
  }
 },
 "nbformat": 4,
 "nbformat_minor": 1
}
