{
 "cells": [
  {
   "cell_type": "markdown",
   "metadata": {
    "collapsed": true
   },
   "source": [
    "# MNIST-Azure\n",
    "## Experiment Test\n",
    "### By: Sebastian Goodfellow"
   ]
  },
  {
   "cell_type": "code",
   "execution_count": 1,
   "metadata": {},
   "outputs": [],
   "source": [
    "# Configure Notebook\n",
    "import warnings\n",
    "warnings.filterwarnings('ignore')\n",
    "%matplotlib inline\n",
    "%load_ext autoreload\n",
    "%autoreload 2\n",
    "\n",
    "# Import 3rd party libraries\n",
    "import os\n",
    "import sys\n",
    "from azureml.train.dnn import TensorFlow\n",
    "from azureml.train.estimator import Estimator\n",
    "from azureml.core import Workspace, Datastore, Experiment, RunConfiguration\n",
    "\n",
    "# Import local Libraries\n",
    "sys.path.insert(0, '/home/sebastiangoodfellow/Documents/Code/mnist-azure')\n",
    "from mnistazure.config import DATA_PATH, TENSORBOARD_PATH"
   ]
  },
  {
   "cell_type": "code",
   "execution_count": 2,
   "metadata": {},
   "outputs": [],
   "source": [
    "# Set input parameters\n",
    "script_params = {'--data_dir': DATA_PATH,\n",
    "                 '--log_dir': './logs',\n",
    "                 '--batch_size': 32,\n",
    "                 '--learning_rate': 1e-3,\n",
    "                 '--epochs': 5,\n",
    "                 '--max_to_keep': 1,\n",
    "                 '--seed': 0}"
   ]
  },
  {
   "cell_type": "code",
   "execution_count": 3,
   "metadata": {},
   "outputs": [],
   "source": [
    "# Get workspace\n",
    "ws = Workspace.get(name='mnist-azure', subscription_id='', \n",
    "                   resource_group='')"
   ]
  },
  {
   "cell_type": "code",
   "execution_count": 4,
   "metadata": {},
   "outputs": [],
   "source": [
    "# Get local run configuration\n",
    "run_local = RunConfiguration()\n",
    "run_local.environment.python.user_managed_dependencies = True"
   ]
  },
  {
   "cell_type": "code",
   "execution_count": 5,
   "metadata": {},
   "outputs": [],
   "source": [
    "# Define experiment\n",
    "exp = Experiment(workspace=ws, name='Experiment_5')"
   ]
  },
  {
   "cell_type": "code",
   "execution_count": 6,
   "metadata": {},
   "outputs": [],
   "source": [
    "# Define estimator\n",
    "estimator = Estimator(source_directory='../', compute_target='local',\n",
    "                      entry_script='train.py', script_params=script_params,\n",
    "                      environment_definition=run_local.environment)"
   ]
  },
  {
   "cell_type": "code",
   "execution_count": null,
   "metadata": {
    "scrolled": false
   },
   "outputs": [],
   "source": [
    "# Submit experiment\n",
    "run = exp.submit(estimator, show_output=True)\n",
    "run.wait_for_completion(show_output=True)"
   ]
  }
 ],
 "metadata": {
  "kernelspec": {
   "display_name": "Python 3",
   "language": "python",
   "name": "python3"
  },
  "language_info": {
   "codemirror_mode": {
    "name": "ipython",
    "version": 3
   },
   "file_extension": ".py",
   "mimetype": "text/x-python",
   "name": "python",
   "nbconvert_exporter": "python",
   "pygments_lexer": "ipython3",
   "version": "3.6.8"
  }
 },
 "nbformat": 4,
 "nbformat_minor": 1
}
