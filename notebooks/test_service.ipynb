{
 "cells": [
  {
   "cell_type": "markdown",
   "metadata": {},
   "source": [
    "# MNIST-Azure\n",
    "## Test Service\n",
    "### By: Sebastian Goodfellow"
   ]
  },
  {
   "cell_type": "code",
   "execution_count": 1,
   "metadata": {},
   "outputs": [],
   "source": [
    "# Configure Notebook\n",
    "import warnings\n",
    "warnings.filterwarnings('ignore')\n",
    "%matplotlib inline\n",
    "%load_ext autoreload\n",
    "%autoreload 2\n",
    "\n",
    "# Import 3rd party libraries\n",
    "import os\n",
    "import cv2\n",
    "import sys\n",
    "import json\n",
    "import base64\n",
    "import numpy as np\n",
    "import tensorflow as tf\n",
    "import matplotlib.pylab as plt\n",
    "from matplotlib.image import imread\n",
    "from azureml.core import Workspace\n",
    "from azureml.core.model import Model\n",
    "from ipywidgets import interact, fixed\n",
    "from ipywidgets.widgets import IntSlider\n",
    "\n",
    "# Import local Libraries\n",
    "sys.path.insert(0, './../')\n",
    "from mnistazure.config import WORKING_PATH, DATA_PATH"
   ]
  },
  {
   "cell_type": "markdown",
   "metadata": {},
   "source": [
    "# Get Data"
   ]
  },
  {
   "cell_type": "code",
   "execution_count": 2,
   "metadata": {},
   "outputs": [
    {
     "name": "stdout",
     "output_type": "stream",
     "text": [
      "['val_0.jpg', 'val_1.jpg', 'val_10.jpg', 'val_100.jpg', 'val_1000.jpg']\n"
     ]
    }
   ],
   "source": [
    "# Image shape\n",
    "image_shape = (28, 28, 1)\n",
    "\n",
    "# Get list of validation images\n",
    "file_names = [file_name for file_name in os.listdir(os.path.join(DATA_PATH, 'images')) \n",
    "              if 'val' in file_name]\n",
    "print(file_names[0:5])"
   ]
  },
  {
   "cell_type": "code",
   "execution_count": 3,
   "metadata": {},
   "outputs": [],
   "source": [
    "# Get workspace\n",
    "workspace = Workspace.get(name='mnist-azure', subscription_id='30284b70-31e1-4b93-b620-26959f80a8f9', \n",
    "                          resource_group='spector-ai')\n",
    "\n",
    "# Get web service\n",
    "service = workspace.webservices['mnist-tf']\n",
    "scoring_uri = service.scoring_uri"
   ]
  },
  {
   "cell_type": "code",
   "execution_count": 4,
   "metadata": {},
   "outputs": [
    {
     "data": {
      "application/vnd.jupyter.widget-view+json": {
       "model_id": "9f3f889c5a1448ad8d20e8e83c11de67",
       "version_major": 2,
       "version_minor": 0
      },
      "text/plain": [
       "interactive(children=(IntSlider(value=0, description='Image ID', max=9999), Output()), _dom_classes=('widget-i…"
      ]
     },
     "metadata": {},
     "output_type": "display_data"
    }
   ],
   "source": [
    "def plot_prediction(file_name_id, file_names):\n",
    "\n",
    "    # Get file name\n",
    "    file_name = file_names[file_name_id]\n",
    "    \n",
    "    # Get prediction\n",
    "    image_array = imread(os.path.join(DATA_PATH, 'images', file_name)).reshape(image_shape)\n",
    "    test_samples = json.dumps([{'name': 'row1', 'image': encode_image(image_array)}])\n",
    "    prediction = json.loads(service.run(input_data=test_samples))[0]\n",
    "\n",
    "    # Plot image\n",
    "    fig = plt.figure(figsize=(5, 5), facecolor='w')\n",
    "    fig.subplots_adjust(wspace=0, hspace=1.2)\n",
    "    ax1 = plt.subplot2grid((1, 1), (0, 0))\n",
    "    ax1.set_title('Prediction: {}\\nScore: {} %'.format(np.argmax(prediction), \n",
    "                                                       int(prediction[np.argmax(prediction)] * 100)), \n",
    "                  fontsize=16)\n",
    "    ax1.imshow(image_array[:, :, 0], cmap='gray', vmin=0, vmax=255)\n",
    "    ax1.axes.get_xaxis().set_visible(False)\n",
    "    ax1.axes.get_yaxis().set_visible(False)\n",
    "    \n",
    "    plt.show()\n",
    "    \n",
    "def encode_image(image):\n",
    "    \"\"\"b64 encode RGB numpy array.\"\"\"\n",
    "    image_string = cv2.imencode('.jpg', image)[1].tostring()\n",
    "    return base64.b64encode(image_string).decode(\"utf-8\")\n",
    "\n",
    "# Launch interactive plotting widget\n",
    "_ = interact(\n",
    "    plot_prediction,\n",
    "    file_name_id=IntSlider(value=0, min=0, max=len(file_names)-1, description='Image ID', disabled=False,),\n",
    "    file_names=fixed(file_names)\n",
    ") "
   ]
  },
  {
   "cell_type": "code",
   "execution_count": null,
   "metadata": {},
   "outputs": [],
   "source": []
  }
 ],
 "metadata": {
  "kernelspec": {
   "display_name": "Python 3",
   "language": "python",
   "name": "python3"
  },
  "language_info": {
   "codemirror_mode": {
    "name": "ipython",
    "version": 3
   },
   "file_extension": ".py",
   "mimetype": "text/x-python",
   "name": "python",
   "nbconvert_exporter": "python",
   "pygments_lexer": "ipython3",
   "version": "3.6.8"
  }
 },
 "nbformat": 4,
 "nbformat_minor": 1
}
