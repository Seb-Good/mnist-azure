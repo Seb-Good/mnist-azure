{
 "cells": [
  {
   "cell_type": "markdown",
   "metadata": {},
   "source": [
    "# MNIST-Azure\n",
    "## Test Inference Graph\n",
    "### By: Sebastian Goodfellow"
   ]
  },
  {
   "cell_type": "code",
   "execution_count": 85,
   "metadata": {},
   "outputs": [
    {
     "name": "stdout",
     "output_type": "stream",
     "text": [
      "The autoreload extension is already loaded. To reload it, use:\n",
      "  %reload_ext autoreload\n"
     ]
    }
   ],
   "source": [
    "# Configure Notebook\n",
    "import warnings\n",
    "warnings.filterwarnings('ignore')\n",
    "%matplotlib inline\n",
    "%load_ext autoreload\n",
    "%autoreload 2\n",
    "\n",
    "# Import 3rd party libraries\n",
    "import os\n",
    "import cv2\n",
    "import sys\n",
    "import json\n",
    "import base64\n",
    "import numpy as np\n",
    "import tensorflow as tf\n",
    "import matplotlib.pylab as plt\n",
    "from matplotlib.image import imread\n",
    "from azureml.core import Workspace\n",
    "from azureml.core.model import Model\n",
    "from ipywidgets import interact, fixed\n",
    "from ipywidgets.widgets import IntSlider\n",
    "\n",
    "# Import local Libraries\n",
    "sys.path.insert(0, '/home/sebastiangoodfellow/Documents/Code/mnist-azure')\n",
    "from mnistazure.config import WORKING_PATH, DATA_PATH"
   ]
  },
  {
   "cell_type": "markdown",
   "metadata": {},
   "source": [
    "# Get Data"
   ]
  },
  {
   "cell_type": "code",
   "execution_count": 19,
   "metadata": {},
   "outputs": [
    {
     "name": "stdout",
     "output_type": "stream",
     "text": [
      "['val_2670.jpg', 'val_4752.jpg', 'val_7445.jpg', 'val_7043.jpg', 'val_3452.jpg']\n"
     ]
    }
   ],
   "source": [
    "# Image shape\n",
    "image_shape = (28, 28, 1)\n",
    "\n",
    "# Get list of validation images\n",
    "file_names = [file_name for file_name in os.listdir(os.path.join(DATA_PATH, 'images')) if 'val' in file_name]\n",
    "print(file_names[0:5])"
   ]
  },
  {
   "cell_type": "markdown",
   "metadata": {},
   "source": [
    "# Build Inference Graph"
   ]
  },
  {
   "cell_type": "code",
   "execution_count": 112,
   "metadata": {},
   "outputs": [
    {
     "name": "stdout",
     "output_type": "stream",
     "text": [
      "INFO:tensorflow:Restoring parameters from /home/sebastiangoodfellow/Documents/Code/mnist-azure/assets/outputs/checkpoints/model\n"
     ]
    }
   ],
   "source": [
    "# Get workspace\n",
    "ws = Workspace.get(name='mnist-azure', subscription_id='', \n",
    "                   resource_group='')\n",
    "\n",
    "# Get model\n",
    "model = Model(workspace=ws, name='mnist_tf_model', version=4)\n",
    "\n",
    "# Set model path\n",
    "model_path = os.path.join(WORKING_PATH, 'assets')\n",
    "\n",
    "# Set graph type\n",
    "graph_type = 'string'\n",
    "\n",
    "# Download model files\n",
    "model.download(target_dir=model_path, exist_ok=True)\n",
    "\n",
    "# Start session\n",
    "tf.reset_default_graph()\n",
    "sess = tf.Session(config=tf.ConfigProto(allow_soft_placement=True))\n",
    "\n",
    "# Import meta graph\n",
    "saver = tf.train.import_meta_graph(os.path.join(model_path, 'outputs', 'graphs', \n",
    "                                                'inference_graph_{}.meta'.format(graph_type)))\n",
    "\n",
    "# Get graph\n",
    "graph = tf.get_default_graph()\n",
    "\n",
    "# Get input tensor\n",
    "images = graph.get_tensor_by_name(name='images:0')\n",
    "\n",
    "# Get output tensor\n",
    "prediction = graph.get_tensor_by_name(name='prediction:0')\n",
    "\n",
    "# Initialize global variables\n",
    "sess.run(tf.global_variables_initializer())\n",
    "\n",
    "# Restore graph variables from checkpoint\n",
    "saver.restore(sess=sess, save_path=os.path.join(model_path, 'outputs', 'checkpoints', 'model'))"
   ]
  },
  {
   "cell_type": "code",
   "execution_count": 119,
   "metadata": {},
   "outputs": [
    {
     "data": {
      "application/vnd.jupyter.widget-view+json": {
       "model_id": "16e85025b33c4896b684ca0fa3418cb0",
       "version_major": 2,
       "version_minor": 0
      },
      "text/plain": [
       "interactive(children=(IntSlider(value=0, description='Image ID', max=9999), Output()), _dom_classes=('widget-i…"
      ]
     },
     "metadata": {},
     "output_type": "display_data"
    }
   ],
   "source": [
    "def plot_prediction(file_name_id, file_names):\n",
    "\n",
    "    # Get prediction\n",
    "    image, prediction = get_prediction(file_name=file_names[file_name_id])\n",
    "    \n",
    "    # Plot image\n",
    "    fig = plt.figure(figsize=(5, 5), facecolor='w')\n",
    "    fig.subplots_adjust(wspace=0, hspace=1.2)\n",
    "    ax1 = plt.subplot2grid((1, 1), (0, 0))\n",
    "    ax1.set_title('Prediction: {}\\nScore: {} %'.format(np.argmax(prediction), \n",
    "                                                     int(prediction[0][np.argmax(prediction)] * 100)), \n",
    "                  fontsize=16)\n",
    "    ax1.imshow(image[:, :, 0], cmap='gray', vmin=0, vmax=255)\n",
    "    ax1.axes.get_xaxis().set_visible(False)\n",
    "    ax1.axes.get_yaxis().set_visible(False)\n",
    "    \n",
    "    plt.show()\n",
    "\n",
    "    \n",
    "def get_prediction(file_name):\n",
    "    image_array = imread(os.path.join(DATA_PATH, 'images', file_name)).reshape(image_shape)\n",
    "    if graph_type is 'array':\n",
    "        return image_array, sess.run(fetches=[prediction], feed_dict={images: [image_array]})[0]\n",
    "    elif graph_type is 'string':\n",
    "        image = cv2.imencode('.jpg', image_array)[1].tostring()\n",
    "        # image = open(os.path.join(DATA_PATH, 'images', file_name), 'rb').read()\n",
    "        return image_array, sess.run(fetches=[prediction], feed_dict={images: [image]})[0]\n",
    "    \n",
    "\n",
    "# Launch interactive plotting widget\n",
    "_ = interact(\n",
    "    plot_prediction,\n",
    "    file_name_id=IntSlider(value=0, min=0, max=len(file_names)-1, description='Image ID', disabled=False,),\n",
    "    file_names=fixed(file_names)\n",
    ") # 2634"
   ]
  }
 ],
 "metadata": {
  "kernelspec": {
   "display_name": "Python 3",
   "language": "python",
   "name": "python3"
  },
  "language_info": {
   "codemirror_mode": {
    "name": "ipython",
    "version": 3
   },
   "file_extension": ".py",
   "mimetype": "text/x-python",
   "name": "python",
   "nbconvert_exporter": "python",
   "pygments_lexer": "ipython3",
   "version": "3.6.8"
  }
 },
 "nbformat": 4,
 "nbformat_minor": 1
}
